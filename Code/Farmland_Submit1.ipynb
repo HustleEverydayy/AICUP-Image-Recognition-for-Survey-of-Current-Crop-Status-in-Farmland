{
  "cells": [
    {
      "cell_type": "code",
      "execution_count": 36,
      "id": "dfdd3c76",
      "metadata": {
        "id": "dfdd3c76"
      },
      "outputs": [],
      "source": [
        "import pandas as pd\n",
        "import numpy as np\n",
        "import matplotlib.pyplot as plt\n",
        "%matplotlib inline"
      ]
    },
    {
      "cell_type": "code",
      "execution_count": 37,
      "id": "RWWEUP8L_CyJ",
      "metadata": {
        "id": "RWWEUP8L_CyJ"
      },
      "outputs": [],
      "source": [
        "class_to_index={'banana': 0, 'bareland': 1, 'building': 2, 'carrot': 3, 'corn': 4,\n",
        "    'dragonfruit': 5, 'garlic': 6, 'guava': 7, 'mountain': 8, 'peanut': 9, 'pineapple': 10,\n",
        "    'pumpkin': 11, 'rice': 12, 'sky': 13, 'soybean': 14, 'sugarcane': 15, 'tomato': 16}\n",
        "index_to_class = {v: k for k, v in class_to_index.items()}"
      ]
    },
    {
      "cell_type": "markdown",
      "id": "k4dn8Mr_aiJf",
      "metadata": {
        "id": "k4dn8Mr_aiJf"
      },
      "source": [
        "## Step 1: 載入b0_output.csv, Test20000.csv"
      ]
    },
    {
      "cell_type": "code",
      "execution_count": 38,
      "id": "Eq58106uyUKk",
      "metadata": {
        "id": "Eq58106uyUKk"
      },
      "outputs": [],
      "source": [
        "df_filename = pd.read_csv('Test20000.csv')"
      ]
    },
    {
      "cell_type": "code",
      "execution_count": 39,
      "id": "h-FmtMYdIwhD",
      "metadata": {
        "id": "h-FmtMYdIwhD"
      },
      "outputs": [],
      "source": [
        "df_predictions = pd.read_csv('b0_output.csv',header=None)"
      ]
    },
    {
      "cell_type": "code",
      "execution_count": 40,
      "id": "qUtwQtcmBo1m",
      "metadata": {
        "colab": {
          "base_uri": "https://localhost:8080/"
        },
        "id": "qUtwQtcmBo1m",
        "outputId": "d57521bc-f8b8-458e-8eda-4f7bc0ceea2c"
      },
      "outputs": [
        {
          "data": {
            "text/plain": [
              "20000"
            ]
          },
          "execution_count": 40,
          "metadata": {},
          "output_type": "execute_result"
        }
      ],
      "source": [
        "len(df_filename)"
      ]
    },
    {
      "cell_type": "code",
      "execution_count": 41,
      "id": "XB3a9ShxBrYs",
      "metadata": {
        "colab": {
          "base_uri": "https://localhost:8080/"
        },
        "id": "XB3a9ShxBrYs",
        "outputId": "054540ca-0698-4f12-e49f-55e420fe712c"
      },
      "outputs": [
        {
          "data": {
            "text/plain": [
              "400000"
            ]
          },
          "execution_count": 41,
          "metadata": {},
          "output_type": "execute_result"
        }
      ],
      "source": [
        "len(df_predictions)"
      ]
    },
    {
      "cell_type": "code",
      "execution_count": 42,
      "id": "EmwO9fPsyZll",
      "metadata": {
        "colab": {
          "base_uri": "https://localhost:8080/",
          "height": 206
        },
        "id": "EmwO9fPsyZll",
        "outputId": "d70f7ad9-c920-4f27-ed2b-4a027eda3c09"
      },
      "outputs": [
        {
          "data": {
            "text/html": [
              "\n",
              "  <div id=\"df-1ea71281-c04b-49e8-8cd5-0992fcfb81c5\">\n",
              "    <div class=\"colab-df-container\">\n",
              "      <div>\n",
              "<style scoped>\n",
              "    .dataframe tbody tr th:only-of-type {\n",
              "        vertical-align: middle;\n",
              "    }\n",
              "\n",
              "    .dataframe tbody tr th {\n",
              "        vertical-align: top;\n",
              "    }\n",
              "\n",
              "    .dataframe thead th {\n",
              "        text-align: right;\n",
              "    }\n",
              "</style>\n",
              "<table border=\"1\" class=\"dataframe\">\n",
              "  <thead>\n",
              "    <tr style=\"text-align: right;\">\n",
              "      <th></th>\n",
              "      <th>image_filename</th>\n",
              "      <th>label</th>\n",
              "    </tr>\n",
              "  </thead>\n",
              "  <tbody>\n",
              "    <tr>\n",
              "      <th>0</th>\n",
              "      <td>0005479429a4.jpg</td>\n",
              "      <td>NaN</td>\n",
              "    </tr>\n",
              "    <tr>\n",
              "      <th>1</th>\n",
              "      <td>0006849c44f2.jpg</td>\n",
              "      <td>NaN</td>\n",
              "    </tr>\n",
              "    <tr>\n",
              "      <th>2</th>\n",
              "      <td>0006fcc93fc9.jpg</td>\n",
              "      <td>NaN</td>\n",
              "    </tr>\n",
              "    <tr>\n",
              "      <th>3</th>\n",
              "      <td>00088803914c.jpg</td>\n",
              "      <td>NaN</td>\n",
              "    </tr>\n",
              "    <tr>\n",
              "      <th>4</th>\n",
              "      <td>000b572940a1.jpg</td>\n",
              "      <td>NaN</td>\n",
              "    </tr>\n",
              "  </tbody>\n",
              "</table>\n",
              "</div>\n",
              "      <button class=\"colab-df-convert\" onclick=\"convertToInteractive('df-1ea71281-c04b-49e8-8cd5-0992fcfb81c5')\"\n",
              "              title=\"Convert this dataframe to an interactive table.\"\n",
              "              style=\"display:none;\">\n",
              "        \n",
              "  <svg xmlns=\"http://www.w3.org/2000/svg\" height=\"24px\"viewBox=\"0 0 24 24\"\n",
              "       width=\"24px\">\n",
              "    <path d=\"M0 0h24v24H0V0z\" fill=\"none\"/>\n",
              "    <path d=\"M18.56 5.44l.94 2.06.94-2.06 2.06-.94-2.06-.94-.94-2.06-.94 2.06-2.06.94zm-11 1L8.5 8.5l.94-2.06 2.06-.94-2.06-.94L8.5 2.5l-.94 2.06-2.06.94zm10 10l.94 2.06.94-2.06 2.06-.94-2.06-.94-.94-2.06-.94 2.06-2.06.94z\"/><path d=\"M17.41 7.96l-1.37-1.37c-.4-.4-.92-.59-1.43-.59-.52 0-1.04.2-1.43.59L10.3 9.45l-7.72 7.72c-.78.78-.78 2.05 0 2.83L4 21.41c.39.39.9.59 1.41.59.51 0 1.02-.2 1.41-.59l7.78-7.78 2.81-2.81c.8-.78.8-2.07 0-2.86zM5.41 20L4 18.59l7.72-7.72 1.47 1.35L5.41 20z\"/>\n",
              "  </svg>\n",
              "      </button>\n",
              "      \n",
              "  <style>\n",
              "    .colab-df-container {\n",
              "      display:flex;\n",
              "      flex-wrap:wrap;\n",
              "      gap: 12px;\n",
              "    }\n",
              "\n",
              "    .colab-df-convert {\n",
              "      background-color: #E8F0FE;\n",
              "      border: none;\n",
              "      border-radius: 50%;\n",
              "      cursor: pointer;\n",
              "      display: none;\n",
              "      fill: #1967D2;\n",
              "      height: 32px;\n",
              "      padding: 0 0 0 0;\n",
              "      width: 32px;\n",
              "    }\n",
              "\n",
              "    .colab-df-convert:hover {\n",
              "      background-color: #E2EBFA;\n",
              "      box-shadow: 0px 1px 2px rgba(60, 64, 67, 0.3), 0px 1px 3px 1px rgba(60, 64, 67, 0.15);\n",
              "      fill: #174EA6;\n",
              "    }\n",
              "\n",
              "    [theme=dark] .colab-df-convert {\n",
              "      background-color: #3B4455;\n",
              "      fill: #D2E3FC;\n",
              "    }\n",
              "\n",
              "    [theme=dark] .colab-df-convert:hover {\n",
              "      background-color: #434B5C;\n",
              "      box-shadow: 0px 1px 3px 1px rgba(0, 0, 0, 0.15);\n",
              "      filter: drop-shadow(0px 1px 2px rgba(0, 0, 0, 0.3));\n",
              "      fill: #FFFFFF;\n",
              "    }\n",
              "  </style>\n",
              "\n",
              "      <script>\n",
              "        const buttonEl =\n",
              "          document.querySelector('#df-1ea71281-c04b-49e8-8cd5-0992fcfb81c5 button.colab-df-convert');\n",
              "        buttonEl.style.display =\n",
              "          google.colab.kernel.accessAllowed ? 'block' : 'none';\n",
              "\n",
              "        async function convertToInteractive(key) {\n",
              "          const element = document.querySelector('#df-1ea71281-c04b-49e8-8cd5-0992fcfb81c5');\n",
              "          const dataTable =\n",
              "            await google.colab.kernel.invokeFunction('convertToInteractive',\n",
              "                                                     [key], {});\n",
              "          if (!dataTable) return;\n",
              "\n",
              "          const docLinkHtml = 'Like what you see? Visit the ' +\n",
              "            '<a target=\"_blank\" href=https://colab.research.google.com/notebooks/data_table.ipynb>data table notebook</a>'\n",
              "            + ' to learn more about interactive tables.';\n",
              "          element.innerHTML = '';\n",
              "          dataTable['output_type'] = 'display_data';\n",
              "          await google.colab.output.renderOutput(dataTable, element);\n",
              "          const docLink = document.createElement('div');\n",
              "          docLink.innerHTML = docLinkHtml;\n",
              "          element.appendChild(docLink);\n",
              "        }\n",
              "      </script>\n",
              "    </div>\n",
              "  </div>\n",
              "  "
            ],
            "text/plain": [
              "     image_filename  label\n",
              "0  0005479429a4.jpg    NaN\n",
              "1  0006849c44f2.jpg    NaN\n",
              "2  0006fcc93fc9.jpg    NaN\n",
              "3  00088803914c.jpg    NaN\n",
              "4  000b572940a1.jpg    NaN"
            ]
          },
          "execution_count": 42,
          "metadata": {},
          "output_type": "execute_result"
        }
      ],
      "source": [
        "df_filename.head()"
      ]
    },
    {
      "cell_type": "code",
      "execution_count": 43,
      "id": "RZRwqUKkv2W_",
      "metadata": {
        "colab": {
          "base_uri": "https://localhost:8080/",
          "height": 206
        },
        "id": "RZRwqUKkv2W_",
        "outputId": "2d70ad2a-2e46-474d-8577-baf86b154e65"
      },
      "outputs": [
        {
          "data": {
            "text/html": [
              "\n",
              "  <div id=\"df-b8089c00-b5af-48c0-9535-398bdd973005\">\n",
              "    <div class=\"colab-df-container\">\n",
              "      <div>\n",
              "<style scoped>\n",
              "    .dataframe tbody tr th:only-of-type {\n",
              "        vertical-align: middle;\n",
              "    }\n",
              "\n",
              "    .dataframe tbody tr th {\n",
              "        vertical-align: top;\n",
              "    }\n",
              "\n",
              "    .dataframe thead th {\n",
              "        text-align: right;\n",
              "    }\n",
              "</style>\n",
              "<table border=\"1\" class=\"dataframe\">\n",
              "  <thead>\n",
              "    <tr style=\"text-align: right;\">\n",
              "      <th></th>\n",
              "      <th>0</th>\n",
              "      <th>1</th>\n",
              "      <th>2</th>\n",
              "      <th>3</th>\n",
              "      <th>4</th>\n",
              "      <th>5</th>\n",
              "      <th>6</th>\n",
              "      <th>7</th>\n",
              "      <th>8</th>\n",
              "      <th>9</th>\n",
              "      <th>10</th>\n",
              "      <th>11</th>\n",
              "      <th>12</th>\n",
              "      <th>13</th>\n",
              "      <th>14</th>\n",
              "      <th>15</th>\n",
              "      <th>16</th>\n",
              "    </tr>\n",
              "  </thead>\n",
              "  <tbody>\n",
              "    <tr>\n",
              "      <th>0</th>\n",
              "      <td>0.0</td>\n",
              "      <td>0.0</td>\n",
              "      <td>0.8904</td>\n",
              "      <td>0.0</td>\n",
              "      <td>0.0</td>\n",
              "      <td>0.0</td>\n",
              "      <td>0.0</td>\n",
              "      <td>0.0</td>\n",
              "      <td>0.0021</td>\n",
              "      <td>0.0</td>\n",
              "      <td>0.0</td>\n",
              "      <td>0.0</td>\n",
              "      <td>0.0</td>\n",
              "      <td>0.1075</td>\n",
              "      <td>0.0</td>\n",
              "      <td>0.0</td>\n",
              "      <td>0.0</td>\n",
              "    </tr>\n",
              "    <tr>\n",
              "      <th>1</th>\n",
              "      <td>0.0</td>\n",
              "      <td>0.0</td>\n",
              "      <td>0.9997</td>\n",
              "      <td>0.0</td>\n",
              "      <td>0.0</td>\n",
              "      <td>0.0</td>\n",
              "      <td>0.0</td>\n",
              "      <td>0.0</td>\n",
              "      <td>0.0000</td>\n",
              "      <td>0.0</td>\n",
              "      <td>0.0</td>\n",
              "      <td>0.0</td>\n",
              "      <td>0.0</td>\n",
              "      <td>0.0002</td>\n",
              "      <td>0.0</td>\n",
              "      <td>0.0</td>\n",
              "      <td>0.0</td>\n",
              "    </tr>\n",
              "    <tr>\n",
              "      <th>2</th>\n",
              "      <td>0.0</td>\n",
              "      <td>0.0</td>\n",
              "      <td>0.9310</td>\n",
              "      <td>0.0</td>\n",
              "      <td>0.0</td>\n",
              "      <td>0.0</td>\n",
              "      <td>0.0</td>\n",
              "      <td>0.0</td>\n",
              "      <td>0.0000</td>\n",
              "      <td>0.0</td>\n",
              "      <td>0.0</td>\n",
              "      <td>0.0</td>\n",
              "      <td>0.0</td>\n",
              "      <td>0.0690</td>\n",
              "      <td>0.0</td>\n",
              "      <td>0.0</td>\n",
              "      <td>0.0</td>\n",
              "    </tr>\n",
              "    <tr>\n",
              "      <th>3</th>\n",
              "      <td>0.0</td>\n",
              "      <td>0.0</td>\n",
              "      <td>1.0000</td>\n",
              "      <td>0.0</td>\n",
              "      <td>0.0</td>\n",
              "      <td>0.0</td>\n",
              "      <td>0.0</td>\n",
              "      <td>0.0</td>\n",
              "      <td>0.0000</td>\n",
              "      <td>0.0</td>\n",
              "      <td>0.0</td>\n",
              "      <td>0.0</td>\n",
              "      <td>0.0</td>\n",
              "      <td>0.0000</td>\n",
              "      <td>0.0</td>\n",
              "      <td>0.0</td>\n",
              "      <td>0.0</td>\n",
              "    </tr>\n",
              "    <tr>\n",
              "      <th>4</th>\n",
              "      <td>0.0</td>\n",
              "      <td>0.0</td>\n",
              "      <td>1.0000</td>\n",
              "      <td>0.0</td>\n",
              "      <td>0.0</td>\n",
              "      <td>0.0</td>\n",
              "      <td>0.0</td>\n",
              "      <td>0.0</td>\n",
              "      <td>0.0000</td>\n",
              "      <td>0.0</td>\n",
              "      <td>0.0</td>\n",
              "      <td>0.0</td>\n",
              "      <td>0.0</td>\n",
              "      <td>0.0000</td>\n",
              "      <td>0.0</td>\n",
              "      <td>0.0</td>\n",
              "      <td>0.0</td>\n",
              "    </tr>\n",
              "  </tbody>\n",
              "</table>\n",
              "</div>\n",
              "      <button class=\"colab-df-convert\" onclick=\"convertToInteractive('df-b8089c00-b5af-48c0-9535-398bdd973005')\"\n",
              "              title=\"Convert this dataframe to an interactive table.\"\n",
              "              style=\"display:none;\">\n",
              "        \n",
              "  <svg xmlns=\"http://www.w3.org/2000/svg\" height=\"24px\"viewBox=\"0 0 24 24\"\n",
              "       width=\"24px\">\n",
              "    <path d=\"M0 0h24v24H0V0z\" fill=\"none\"/>\n",
              "    <path d=\"M18.56 5.44l.94 2.06.94-2.06 2.06-.94-2.06-.94-.94-2.06-.94 2.06-2.06.94zm-11 1L8.5 8.5l.94-2.06 2.06-.94-2.06-.94L8.5 2.5l-.94 2.06-2.06.94zm10 10l.94 2.06.94-2.06 2.06-.94-2.06-.94-.94-2.06-.94 2.06-2.06.94z\"/><path d=\"M17.41 7.96l-1.37-1.37c-.4-.4-.92-.59-1.43-.59-.52 0-1.04.2-1.43.59L10.3 9.45l-7.72 7.72c-.78.78-.78 2.05 0 2.83L4 21.41c.39.39.9.59 1.41.59.51 0 1.02-.2 1.41-.59l7.78-7.78 2.81-2.81c.8-.78.8-2.07 0-2.86zM5.41 20L4 18.59l7.72-7.72 1.47 1.35L5.41 20z\"/>\n",
              "  </svg>\n",
              "      </button>\n",
              "      \n",
              "  <style>\n",
              "    .colab-df-container {\n",
              "      display:flex;\n",
              "      flex-wrap:wrap;\n",
              "      gap: 12px;\n",
              "    }\n",
              "\n",
              "    .colab-df-convert {\n",
              "      background-color: #E8F0FE;\n",
              "      border: none;\n",
              "      border-radius: 50%;\n",
              "      cursor: pointer;\n",
              "      display: none;\n",
              "      fill: #1967D2;\n",
              "      height: 32px;\n",
              "      padding: 0 0 0 0;\n",
              "      width: 32px;\n",
              "    }\n",
              "\n",
              "    .colab-df-convert:hover {\n",
              "      background-color: #E2EBFA;\n",
              "      box-shadow: 0px 1px 2px rgba(60, 64, 67, 0.3), 0px 1px 3px 1px rgba(60, 64, 67, 0.15);\n",
              "      fill: #174EA6;\n",
              "    }\n",
              "\n",
              "    [theme=dark] .colab-df-convert {\n",
              "      background-color: #3B4455;\n",
              "      fill: #D2E3FC;\n",
              "    }\n",
              "\n",
              "    [theme=dark] .colab-df-convert:hover {\n",
              "      background-color: #434B5C;\n",
              "      box-shadow: 0px 1px 3px 1px rgba(0, 0, 0, 0.15);\n",
              "      filter: drop-shadow(0px 1px 2px rgba(0, 0, 0, 0.3));\n",
              "      fill: #FFFFFF;\n",
              "    }\n",
              "  </style>\n",
              "\n",
              "      <script>\n",
              "        const buttonEl =\n",
              "          document.querySelector('#df-b8089c00-b5af-48c0-9535-398bdd973005 button.colab-df-convert');\n",
              "        buttonEl.style.display =\n",
              "          google.colab.kernel.accessAllowed ? 'block' : 'none';\n",
              "\n",
              "        async function convertToInteractive(key) {\n",
              "          const element = document.querySelector('#df-b8089c00-b5af-48c0-9535-398bdd973005');\n",
              "          const dataTable =\n",
              "            await google.colab.kernel.invokeFunction('convertToInteractive',\n",
              "                                                     [key], {});\n",
              "          if (!dataTable) return;\n",
              "\n",
              "          const docLinkHtml = 'Like what you see? Visit the ' +\n",
              "            '<a target=\"_blank\" href=https://colab.research.google.com/notebooks/data_table.ipynb>data table notebook</a>'\n",
              "            + ' to learn more about interactive tables.';\n",
              "          element.innerHTML = '';\n",
              "          dataTable['output_type'] = 'display_data';\n",
              "          await google.colab.output.renderOutput(dataTable, element);\n",
              "          const docLink = document.createElement('div');\n",
              "          docLink.innerHTML = docLinkHtml;\n",
              "          element.appendChild(docLink);\n",
              "        }\n",
              "      </script>\n",
              "    </div>\n",
              "  </div>\n",
              "  "
            ],
            "text/plain": [
              "    0    1       2    3    4    5    6    7       8    9    10   11   12  \\\n",
              "0  0.0  0.0  0.8904  0.0  0.0  0.0  0.0  0.0  0.0021  0.0  0.0  0.0  0.0   \n",
              "1  0.0  0.0  0.9997  0.0  0.0  0.0  0.0  0.0  0.0000  0.0  0.0  0.0  0.0   \n",
              "2  0.0  0.0  0.9310  0.0  0.0  0.0  0.0  0.0  0.0000  0.0  0.0  0.0  0.0   \n",
              "3  0.0  0.0  1.0000  0.0  0.0  0.0  0.0  0.0  0.0000  0.0  0.0  0.0  0.0   \n",
              "4  0.0  0.0  1.0000  0.0  0.0  0.0  0.0  0.0  0.0000  0.0  0.0  0.0  0.0   \n",
              "\n",
              "       13   14   15   16  \n",
              "0  0.1075  0.0  0.0  0.0  \n",
              "1  0.0002  0.0  0.0  0.0  \n",
              "2  0.0690  0.0  0.0  0.0  \n",
              "3  0.0000  0.0  0.0  0.0  \n",
              "4  0.0000  0.0  0.0  0.0  "
            ]
          },
          "execution_count": 43,
          "metadata": {},
          "output_type": "execute_result"
        }
      ],
      "source": [
        "df_predictions.head()"
      ]
    },
    {
      "cell_type": "code",
      "execution_count": 44,
      "id": "6biJQ1kwygWA",
      "metadata": {
        "id": "6biJQ1kwygWA"
      },
      "outputs": [],
      "source": [
        "def argmax(lst):\n",
        "    return max(range(len(lst)), key=lst.__getitem__)"
      ]
    },
    {
      "cell_type": "markdown",
      "id": "RhiprNAHcJqN",
      "metadata": {
        "id": "RhiprNAHcJqN"
      },
      "source": [
        "## Step 2: 計算每列預測值最大的類別"
      ]
    },
    {
      "cell_type": "code",
      "execution_count": 45,
      "id": "LhTPdJcVB7U2",
      "metadata": {
        "id": "LhTPdJcVB7U2"
      },
      "outputs": [],
      "source": [
        "judgeClass = [0 for i in range(len(df_predictions))]\n",
        "for index, row in df_predictions.iterrows():\n",
        "  judgeClass[index] = argmax(list(row))"
      ]
    },
    {
      "cell_type": "markdown",
      "id": "MnVd_AMReMYn",
      "metadata": {
        "id": "MnVd_AMReMYn"
      },
      "source": [
        "## Step 3: 計算每張圖(分成20張小圖)，統計類別的區域"
      ]
    },
    {
      "cell_type": "code",
      "execution_count": 46,
      "id": "QBvjEMBkDjIz",
      "metadata": {
        "id": "QBvjEMBkDjIz"
      },
      "outputs": [],
      "source": [
        "def accumulate_blocks(stats, ii):\n",
        "  if ii ==2 or ii==8 or ii==13:\n",
        "    stats[ii] +=-1\n",
        "    return\n",
        "  elif ii ==1 or ii==15 or ii==0:\n",
        "    stats[ii] +=1\n",
        "    return\n",
        "  stats[ii] +=2\n",
        "  return"
      ]
    },
    {
      "cell_type": "code",
      "execution_count": 47,
      "id": "YusYOBvQHGE8",
      "metadata": {
        "id": "YusYOBvQHGE8"
      },
      "outputs": [],
      "source": [
        "def predict(ii):\n",
        "  stats = [0 for i in range(17)]\n",
        "  for i in range(20):\n",
        "    index = ii*20+i\n",
        "    dets = judgeClass[index]\n",
        "    accumulate_blocks(stats, dets)\n",
        "  judge = argmax(stats)\n",
        "  landtype = index_to_class[judge]\n",
        "  return landtype"
      ]
    },
    {
      "cell_type": "code",
      "execution_count": 48,
      "id": "88mZXcIPoU0K",
      "metadata": {
        "id": "88mZXcIPoU0K"
      },
      "outputs": [],
      "source": [
        "answer = []\n",
        "correct_count =0\n",
        "for index, row in df_filename.iterrows():\n",
        "  filename = row[0]\n",
        "  predicted_label = predict(index)\n",
        "  answer.append(predicted_label)"
      ]
    },
    {
      "cell_type": "code",
      "execution_count": 49,
      "id": "-DHVWT61693L",
      "metadata": {
        "colab": {
          "base_uri": "https://localhost:8080/"
        },
        "id": "-DHVWT61693L",
        "outputId": "6d475c54-6ba9-4f32-dab0-722f6c6aaf5c"
      },
      "outputs": [
        {
          "name": "stdout",
          "output_type": "stream",
          "text": [
            "['corn', 'pineapple', 'bareland', 'garlic', 'peanut']\n"
          ]
        }
      ],
      "source": [
        "print(answer[:5])"
      ]
    },
    {
      "cell_type": "code",
      "execution_count": 50,
      "id": "tsH6YX5_7ZIn",
      "metadata": {
        "colab": {
          "base_uri": "https://localhost:8080/"
        },
        "id": "tsH6YX5_7ZIn",
        "outputId": "4e633962-59b3-4a53-eb5c-1ed615a1817f"
      },
      "outputs": [
        {
          "name": "stdout",
          "output_type": "stream",
          "text": [
            "['corn', 'pineapple', 'bareland', 'garlic', 'peanut']\n"
          ]
        }
      ],
      "source": [
        "print(answer[:5])"
      ]
    },
    {
      "cell_type": "markdown",
      "id": "rMhHR7mofFi-",
      "metadata": {
        "id": "rMhHR7mofFi-"
      },
      "source": [
        "## Step 4: 匯出結果"
      ]
    },
    {
      "cell_type": "code",
      "execution_count": 51,
      "id": "YsT_EGqIIXYn",
      "metadata": {
        "id": "YsT_EGqIIXYn"
      },
      "outputs": [],
      "source": [
        "df_result = pd.DataFrame(df_filename['image_filename'])\n",
        "df_result['label'] = pd.DataFrame(answer) "
      ]
    },
    {
      "cell_type": "code",
      "execution_count": 52,
      "id": "iFQu-IZAJNS-",
      "metadata": {
        "colab": {
          "base_uri": "https://localhost:8080/",
          "height": 206
        },
        "id": "iFQu-IZAJNS-",
        "outputId": "b4a39266-459a-419e-a2db-147b8cab09bf"
      },
      "outputs": [
        {
          "data": {
            "text/html": [
              "\n",
              "  <div id=\"df-2362caea-01ad-415a-b62a-853550d4ceed\">\n",
              "    <div class=\"colab-df-container\">\n",
              "      <div>\n",
              "<style scoped>\n",
              "    .dataframe tbody tr th:only-of-type {\n",
              "        vertical-align: middle;\n",
              "    }\n",
              "\n",
              "    .dataframe tbody tr th {\n",
              "        vertical-align: top;\n",
              "    }\n",
              "\n",
              "    .dataframe thead th {\n",
              "        text-align: right;\n",
              "    }\n",
              "</style>\n",
              "<table border=\"1\" class=\"dataframe\">\n",
              "  <thead>\n",
              "    <tr style=\"text-align: right;\">\n",
              "      <th></th>\n",
              "      <th>image_filename</th>\n",
              "      <th>label</th>\n",
              "    </tr>\n",
              "  </thead>\n",
              "  <tbody>\n",
              "    <tr>\n",
              "      <th>0</th>\n",
              "      <td>0005479429a4.jpg</td>\n",
              "      <td>corn</td>\n",
              "    </tr>\n",
              "    <tr>\n",
              "      <th>1</th>\n",
              "      <td>0006849c44f2.jpg</td>\n",
              "      <td>pineapple</td>\n",
              "    </tr>\n",
              "    <tr>\n",
              "      <th>2</th>\n",
              "      <td>0006fcc93fc9.jpg</td>\n",
              "      <td>bareland</td>\n",
              "    </tr>\n",
              "    <tr>\n",
              "      <th>3</th>\n",
              "      <td>00088803914c.jpg</td>\n",
              "      <td>garlic</td>\n",
              "    </tr>\n",
              "    <tr>\n",
              "      <th>4</th>\n",
              "      <td>000b572940a1.jpg</td>\n",
              "      <td>peanut</td>\n",
              "    </tr>\n",
              "  </tbody>\n",
              "</table>\n",
              "</div>\n",
              "      <button class=\"colab-df-convert\" onclick=\"convertToInteractive('df-2362caea-01ad-415a-b62a-853550d4ceed')\"\n",
              "              title=\"Convert this dataframe to an interactive table.\"\n",
              "              style=\"display:none;\">\n",
              "        \n",
              "  <svg xmlns=\"http://www.w3.org/2000/svg\" height=\"24px\"viewBox=\"0 0 24 24\"\n",
              "       width=\"24px\">\n",
              "    <path d=\"M0 0h24v24H0V0z\" fill=\"none\"/>\n",
              "    <path d=\"M18.56 5.44l.94 2.06.94-2.06 2.06-.94-2.06-.94-.94-2.06-.94 2.06-2.06.94zm-11 1L8.5 8.5l.94-2.06 2.06-.94-2.06-.94L8.5 2.5l-.94 2.06-2.06.94zm10 10l.94 2.06.94-2.06 2.06-.94-2.06-.94-.94-2.06-.94 2.06-2.06.94z\"/><path d=\"M17.41 7.96l-1.37-1.37c-.4-.4-.92-.59-1.43-.59-.52 0-1.04.2-1.43.59L10.3 9.45l-7.72 7.72c-.78.78-.78 2.05 0 2.83L4 21.41c.39.39.9.59 1.41.59.51 0 1.02-.2 1.41-.59l7.78-7.78 2.81-2.81c.8-.78.8-2.07 0-2.86zM5.41 20L4 18.59l7.72-7.72 1.47 1.35L5.41 20z\"/>\n",
              "  </svg>\n",
              "      </button>\n",
              "      \n",
              "  <style>\n",
              "    .colab-df-container {\n",
              "      display:flex;\n",
              "      flex-wrap:wrap;\n",
              "      gap: 12px;\n",
              "    }\n",
              "\n",
              "    .colab-df-convert {\n",
              "      background-color: #E8F0FE;\n",
              "      border: none;\n",
              "      border-radius: 50%;\n",
              "      cursor: pointer;\n",
              "      display: none;\n",
              "      fill: #1967D2;\n",
              "      height: 32px;\n",
              "      padding: 0 0 0 0;\n",
              "      width: 32px;\n",
              "    }\n",
              "\n",
              "    .colab-df-convert:hover {\n",
              "      background-color: #E2EBFA;\n",
              "      box-shadow: 0px 1px 2px rgba(60, 64, 67, 0.3), 0px 1px 3px 1px rgba(60, 64, 67, 0.15);\n",
              "      fill: #174EA6;\n",
              "    }\n",
              "\n",
              "    [theme=dark] .colab-df-convert {\n",
              "      background-color: #3B4455;\n",
              "      fill: #D2E3FC;\n",
              "    }\n",
              "\n",
              "    [theme=dark] .colab-df-convert:hover {\n",
              "      background-color: #434B5C;\n",
              "      box-shadow: 0px 1px 3px 1px rgba(0, 0, 0, 0.15);\n",
              "      filter: drop-shadow(0px 1px 2px rgba(0, 0, 0, 0.3));\n",
              "      fill: #FFFFFF;\n",
              "    }\n",
              "  </style>\n",
              "\n",
              "      <script>\n",
              "        const buttonEl =\n",
              "          document.querySelector('#df-2362caea-01ad-415a-b62a-853550d4ceed button.colab-df-convert');\n",
              "        buttonEl.style.display =\n",
              "          google.colab.kernel.accessAllowed ? 'block' : 'none';\n",
              "\n",
              "        async function convertToInteractive(key) {\n",
              "          const element = document.querySelector('#df-2362caea-01ad-415a-b62a-853550d4ceed');\n",
              "          const dataTable =\n",
              "            await google.colab.kernel.invokeFunction('convertToInteractive',\n",
              "                                                     [key], {});\n",
              "          if (!dataTable) return;\n",
              "\n",
              "          const docLinkHtml = 'Like what you see? Visit the ' +\n",
              "            '<a target=\"_blank\" href=https://colab.research.google.com/notebooks/data_table.ipynb>data table notebook</a>'\n",
              "            + ' to learn more about interactive tables.';\n",
              "          element.innerHTML = '';\n",
              "          dataTable['output_type'] = 'display_data';\n",
              "          await google.colab.output.renderOutput(dataTable, element);\n",
              "          const docLink = document.createElement('div');\n",
              "          docLink.innerHTML = docLinkHtml;\n",
              "          element.appendChild(docLink);\n",
              "        }\n",
              "      </script>\n",
              "    </div>\n",
              "  </div>\n",
              "  "
            ],
            "text/plain": [
              "     image_filename      label\n",
              "0  0005479429a4.jpg       corn\n",
              "1  0006849c44f2.jpg  pineapple\n",
              "2  0006fcc93fc9.jpg   bareland\n",
              "3  00088803914c.jpg     garlic\n",
              "4  000b572940a1.jpg     peanut"
            ]
          },
          "execution_count": 52,
          "metadata": {},
          "output_type": "execute_result"
        }
      ],
      "source": [
        "df_result.head()"
      ]
    },
    {
      "cell_type": "code",
      "execution_count": 61,
      "id": "fQYzkRHCJZ5E",
      "metadata": {
        "id": "fQYzkRHCJZ5E"
      },
      "outputs": [],
      "source": [
        "df_result.to_csv(\"resultfirst.csv\", index=False )"
      ]
    },
    {
      "cell_type": "markdown",
      "id": "w52R-LgiesBF",
      "metadata": {
        "id": "w52R-LgiesBF"
      },
      "source": [
        "## Step 5: 驗證 secret_labels.csv"
      ]
    },
    {
      "cell_type": "code",
      "execution_count": 54,
      "id": "8sY7XxdDfkj-",
      "metadata": {
        "id": "8sY7XxdDfkj-"
      },
      "outputs": [],
      "source": [
        "df_labels = pd.read_csv('secret_labels.csv')"
      ]
    },
    {
      "cell_type": "code",
      "execution_count": 55,
      "id": "LEX0wYar5_1B",
      "metadata": {
        "colab": {
          "base_uri": "https://localhost:8080/"
        },
        "id": "LEX0wYar5_1B",
        "outputId": "9ed03f34-2187-4263-b143-c9a9f17ddea8"
      },
      "outputs": [
        {
          "name": "stdout",
          "output_type": "stream",
          "text": [
            "0.972\n"
          ]
        }
      ],
      "source": [
        "correct_count =0\n",
        "for index, row in df_labels.iterrows():\n",
        "  filename = row[0]\n",
        "  label = row[1]\n",
        "  predicted_label = answer[index]\n",
        "  if predicted_label == label:\n",
        "    correct_count += 1\n",
        "  #else:\n",
        "  #  print(filename, label, predicted_label)\n",
        "accuracy = correct_count/len(df_labels) \n",
        "print(f\"{accuracy:.3f}\")"
      ]
    },
    {
      "cell_type": "code",
      "execution_count": 56,
      "id": "nlA8eYFiesY4",
      "metadata": {
        "colab": {
          "base_uri": "https://localhost:8080/"
        },
        "id": "nlA8eYFiesY4",
        "outputId": "891ff90c-4a9d-46d0-c6ce-56ba12baf42d"
      },
      "outputs": [
        {
          "name": "stdout",
          "output_type": "stream",
          "text": [
            "0.972\n"
          ]
        }
      ],
      "source": [
        "correct_count =0\n",
        "for index, row in df_labels.iterrows():\n",
        "  filename = row[0]\n",
        "  label = row[1]\n",
        "  predicted_label = answer[index]\n",
        "  if predicted_label == label:\n",
        "    correct_count += 1\n",
        "  #else:\n",
        "  #  print(filename, label, predicted_label)\n",
        "accuracy = correct_count/len(df_labels) \n",
        "print(f\"{accuracy:.3f}\")"
      ]
    },
    {
      "cell_type": "markdown",
      "id": "FQl7OGErf_uv",
      "metadata": {
        "id": "FQl7OGErf_uv"
      },
      "source": [
        "## Step 6: 計算分數\n",
        "https://aidea-web.tw/topic/93c8c26b-0e96-44bc-9a53-1c96353ad340\n",
        "\n",
        "評估方式採用Weighted-Precision(WP), 且各類別F1-score需大於0.7\n",
        "$$WP={\\sum_{i=1}^{NumofClass} (Precision_i \\times (TP_i + FN_i)) \\over TotalImageCount}$$\n",
        "\n",
        "$$\\text{F1-score}= 2 \\times {(Precision \\times Recall) \\over (Precision + Recall) }$$\n",
        "\n",
        "$$\\text{Recall}= {TP \\over TP + FN }$$\n",
        "\n",
        "$$\\text{Precision}= {TP \\over TP + FP }$$"
      ]
    },
    {
      "cell_type": "code",
      "execution_count": 57,
      "id": "v9m7SOTqgDId",
      "metadata": {
        "colab": {
          "base_uri": "https://localhost:8080/"
        },
        "id": "v9m7SOTqgDId",
        "outputId": "39fa7f2c-8007-4db2-84a7-a3e979e87484"
      },
      "outputs": [
        {
          "name": "stdout",
          "output_type": "stream",
          "text": [
            "14\n"
          ]
        }
      ],
      "source": [
        "landtypes=['banana', 'bareland', 'carrot', 'corn', 'dragonfruit', 'garlic', 'guava', 'peanut', 'pineapple', 'pumpkin', 'rice', 'soybean', 'sugarcane', 'tomato']\n",
        "print(len(landtypes))"
      ]
    },
    {
      "cell_type": "code",
      "execution_count": 58,
      "id": "2NiYOLzShG5g",
      "metadata": {
        "id": "2NiYOLzShG5g"
      },
      "outputs": [],
      "source": [
        "TP = {lt:0 for lt in landtypes}\n",
        "FN = {lt:0 for lt in landtypes}\n",
        "FP = {lt:0 for lt in landtypes}\n",
        "for index, row in df_labels.iterrows():\n",
        "  label = row[1]\n",
        "  predicted_label = answer[index]\n",
        "  if predicted_label == label:\n",
        "     TP[label] +=1\n",
        "  else:\n",
        "      FP[label] +=1\n",
        "      FN[predicted_label] +=1"
      ]
    },
    {
      "cell_type": "code",
      "execution_count": 59,
      "id": "IO08gxqAks-n",
      "metadata": {
        "colab": {
          "base_uri": "https://localhost:8080/"
        },
        "id": "IO08gxqAks-n",
        "outputId": "a41ca0be-aaae-4048-df51-48b41ba90978"
      },
      "outputs": [
        {
          "name": "stdout",
          "output_type": "stream",
          "text": [
            "banana      :precision=0.97:recall=0.99:f1-score=0.98\n",
            "bareland    :precision=0.92:recall=0.99:f1-score=0.95\n",
            "carrot      :precision=0.99:recall=0.95:f1-score=0.97\n",
            "corn        :precision=0.99:recall=0.97:f1-score=0.98\n",
            "dragonfruit :precision=1.00:recall=0.97:f1-score=0.98\n",
            "garlic      :precision=0.98:recall=0.98:f1-score=0.98\n",
            "guava       :precision=0.99:recall=0.99:f1-score=0.99\n",
            "peanut      :precision=0.96:recall=0.97:f1-score=0.97\n",
            "pineapple   :precision=1.00:recall=0.99:f1-score=0.99\n",
            "pumpkin     :precision=0.99:recall=0.87:f1-score=0.93\n",
            "rice        :precision=0.99:recall=0.98:f1-score=0.99\n",
            "soybean     :precision=0.98:recall=0.90:f1-score=0.93\n",
            "sugarcane   :precision=0.93:recall=0.97:f1-score=0.95\n",
            "tomato      :precision=0.98:recall=0.95:f1-score=0.97\n"
          ]
        }
      ],
      "source": [
        "for lt in landtypes:\n",
        "  if TP[lt]+FN[lt] >0:\n",
        "    recall = TP[lt]/(TP[lt]+FN[lt])\n",
        "  else:\n",
        "    recall = 0\n",
        "  if TP[lt]+FP[lt] >0:\n",
        "    precision = TP[lt]/(TP[lt]+FP[lt])\n",
        "  else:\n",
        "    precision = 0\n",
        "  f1_score = 2*precision*recall/(precision+recall)\n",
        "  print(f\"{lt:12}:precision={precision:.2f}:recall={recall:.2f}:f1-score={f1_score:.2f}\")"
      ]
    },
    {
      "cell_type": "code",
      "execution_count": 60,
      "id": "zm8im_5Skzc4",
      "metadata": {
        "colab": {
          "base_uri": "https://localhost:8080/"
        },
        "id": "zm8im_5Skzc4",
        "outputId": "9a309d1e-42dd-4952-f9f6-4bdc1f648e94"
      },
      "outputs": [
        {
          "name": "stdout",
          "output_type": "stream",
          "text": [
            "Weighted_Precision=0.973\n"
          ]
        }
      ],
      "source": [
        "All=len(df_labels)\n",
        "score = 0.0\n",
        "for lt in landtypes:\n",
        "  if TP[lt]+FN[lt] >0:\n",
        "    recall = TP[lt]/(TP[lt]+FN[lt])\n",
        "  else:\n",
        "    recall = 0\n",
        "  if TP[lt]+FP[lt] >0:\n",
        "    precision = TP[lt]/(TP[lt]+FP[lt])\n",
        "  else:\n",
        "    precision = 0\n",
        "  score += precision*(TP[lt]+FN[lt])\n",
        "\n",
        "Weighted_Precision = score/All\n",
        "print(f\"Weighted_Precision={Weighted_Precision:.3f}\")"
      ]
    }
  ],
  "metadata": {
    "accelerator": "GPU",
    "colab": {
      "name": "aicup2022_FarmlandSubmit1.ipynb",
      "provenance": []
    },
    "kernelspec": {
      "display_name": "Python 3 (ipykernel)",
      "language": "python",
      "name": "python3"
    },
    "language_info": {
      "codemirror_mode": {
        "name": "ipython",
        "version": 3
      },
      "file_extension": ".py",
      "mimetype": "text/x-python",
      "name": "python",
      "nbconvert_exporter": "python",
      "pygments_lexer": "ipython3",
      "version": "3.9.7"
    }
  },
  "nbformat": 4,
  "nbformat_minor": 5
}
